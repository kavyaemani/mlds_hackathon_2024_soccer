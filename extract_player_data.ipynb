{
 "cells": [
  {
   "cell_type": "code",
   "execution_count": null,
   "metadata": {},
   "outputs": [],
   "source": [
    "import pandas as pd\n",
    "import os"
   ]
  },
  {
   "cell_type": "code",
   "execution_count": null,
   "metadata": {},
   "outputs": [
    {
     "data": {
      "text/plain": [
       "'c:\\\\Users\\\\John\\\\Desktop\\\\Hackathon 2024\\\\Hackathon Data'"
      ]
     },
     "metadata": {},
     "output_type": "display_data"
    }
   ],
   "source": [
    "os.getcwd()"
   ]
  },
  {
   "cell_type": "code",
   "execution_count": null,
   "metadata": {},
   "outputs": [],
   "source": [
    "player = pd.read_csv('player-data/player-combined-data.csv')"
   ]
  },
  {
   "cell_type": "code",
   "execution_count": null,
   "metadata": {},
   "outputs": [],
   "source": [
    "new_columns= player['Position'].str.split(',', expand=True)\n",
    "player = player.drop(columns = ['Position'])\n",
    "new_columns.columns = [f'Position_{i}' for i in range(new_columns.shape[1])]  # Modify based on the expected number of splits\n",
    "player_2 = player.join(new_columns)"
   ]
  },
  {
   "cell_type": "code",
   "execution_count": null,
   "metadata": {},
   "outputs": [],
   "source": [
    "player_3 = player_2.melt(id_vars=player_2.columns.difference(new_columns.columns).tolist(), \n",
    "                     value_vars=new_columns.columns, \n",
    "                     value_name='Position').drop(columns=['variable'])\n",
    "player_3 = player_3.dropna(subset=['Position'])\n",
    "\n",
    "role_metrics = {\n",
    "    \"Forward\": [\"Goals\", \"Assists\", \"Fitness\", \"Pass Accuracy\"],\n",
    "    \"Midfielder\": [\"Assists\", \"Pass Accuracy\", \"Tackles\", \"Fitness\"],\n",
    "    \"Defender\": [\"Tackles\", \"Pass Accuracy\", \"Fitness\"],\n",
    "    \"Goalkeeper\": [\"Saves\", \"Fitness\", \"Pass Accuracy\"]\n",
    "}"
   ]
  },
  {
   "cell_type": "code",
   "execution_count": null,
   "metadata": {},
   "outputs": [],
   "source": [
    "# Mapping for position simplification\n",
    "position_mapping = {\n",
    "    'CF': 'CF', 'LW': 'LW', 'RW': 'RW', 'RWF': 'RW', 'LWF': 'LW', \n",
    "    'GK': 'GK', 'CB': 'CB', 'LCB': 'CB', 'RCB': 'CB', 'LCB3': 'CB', 'RCB3': 'CB',\n",
    "    'LB': 'LB', 'RB': 'RB', 'LWB': 'LB', 'RWB': 'RB', 'LB5': 'LB', 'RB5': 'RB',\n",
    "    'AMF': 'AMF', 'LAMF': 'AMF', 'RAMF': 'AMF',\n",
    "    'CMF': 'CMF', 'LCMF': 'CMF', 'RCMF': 'CMF', 'LCMF3': 'CMF', 'RCMF3': 'CMF',\n",
    "    'DMF': 'DMF', 'LDMF': 'DMF', 'RDMF': 'DMF',\n",
    "    '0': '',  # Handle positions like '0' with an explicit category\n",
    "}\n",
    "\n",
    "position_mapping_2 = {\n",
    "    'CF': 'Forward', 'LW': 'Forward', 'RW': 'Forward', 'CMF': 'Midfield',\n",
    "    'AMF': 'Midfield', 'DMF': 'Midfield', 'LB': 'Back', 'RB': 'Back', 'CB': 'Back',\n",
    "    'GK': 'Goalkeeper'\n",
    "}\n",
    "\n",
    "# Function to apply the mapping\n",
    "def simplify_positions(position):\n",
    "    position = position.strip()  # Remove leading/trailing spaces\n",
    "    return position_mapping.get(position, position)  # Default to original if no mapping\n",
    "\n",
    "def simplify_positions_2(position):\n",
    "    position = position.strip()  # Remove leading/trailing spaces\n",
    "    return position_mapping_2.get(position, position)  # Default to original if no mapping\n",
    "\n",
    "\n",
    "# Apply simplification to your dataset\n",
    "player_3['Simple_Position'] = player_3['Position'].apply(simplify_positions)\n",
    "player_3['Simple_Position'] = player_3['Simple_Position'].apply(simplify_positions_2)\n",
    "# player_3['Position'] = player_3['Position'].replace(r'\\d+', '', regex=True).str.strip()\n",
    "player_3['Simple_Position'] = player_3['Simple_Position'].replace('', pd.NA)\n",
    "\n",
    "# Group by 'Name' and calculate the most common position for each player\n",
    "most_common_position = player_3.groupby('player_name')['Simple_Position'].apply(lambda x: x.mode()[0] if not x.mode().empty else 'Unknown')\n",
    "\n",
    "# Fill missing positions with the most common position for each player\n",
    "player_3['Simple_Position'] = player_3.apply(lambda row: most_common_position[row['player_name']] if pd.isnull(row['Simple_Position'])  else row['Simple_Position'], axis=1)\n",
    "\n",
    "# Count occurrences of each simplified position\n",
    "simplified_counts = player_3['Simple_Position'].value_counts()"
   ]
  },
  {
   "cell_type": "code",
   "execution_count": null,
   "metadata": {},
   "outputs": [],
   "source": [
    "player_3.to_csv('player-data/cleaned_player.csv', index = False)"
   ]
  }
 ],
 "metadata": {
  "language_info": {
   "name": "python"
  }
 },
 "nbformat": 4,
 "nbformat_minor": 2
}
