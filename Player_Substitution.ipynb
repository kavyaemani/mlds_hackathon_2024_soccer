{
 "cells": [
  {
   "cell_type": "markdown",
   "id": "4792615f-3427-4fd1-b1f3-8e3cd8a84606",
   "metadata": {},
   "source": [
    "### Code to implement collaborative filtering for soccer player substitutions:\n",
    "\n",
    "##### Collaborative filtering methods in soccer analyze patterns of player performance and team dynamics to recommend substitutions based on similar historical situations. These methods typically use matrix factorization or neighborhood-based approaches to identify latent features and similarities between players, teams, and match contexts."
   ]
  },
  {
   "cell_type": "markdown",
   "id": "eb0a4c03-5883-477c-8ea8-924342fcff3d",
   "metadata": {},
   "source": [
    "###### Our objective here is to get the Ranked lists of potential substitute players for the team northwestern wildcats based on their similarity to successful past substitutions in comparable match situations"
   ]
  },
  {
   "cell_type": "code",
   "execution_count": 4,
   "id": "2fed0a00",
   "metadata": {},
   "outputs": [
    {
     "data": {
      "text/plain": [
       "'c:\\\\Users\\\\John\\\\Desktop\\\\Hackathon 2024\\\\hackathon_test'"
      ]
     },
     "execution_count": 4,
     "metadata": {},
     "output_type": "execute_result"
    }
   ],
   "source": [
    "import os\n",
    "os.getcwd()"
   ]
  },
  {
   "cell_type": "code",
   "execution_count": 7,
   "id": "6f841365-ce2a-46cf-989c-c3501e2cdd38",
   "metadata": {},
   "outputs": [
    {
     "name": "stdout",
     "output_type": "stream",
     "text": [
      "Recommended substitutes for T. Glassberg:\n",
      "1. H. Richter (Position: Back, Avg. Minutes: 13.00, Similarity: 0.90)\n"
     ]
    },
    {
     "name": "stderr",
     "output_type": "stream",
     "text": [
      "C:\\Users\\John\\AppData\\Local\\Temp\\ipykernel_25416\\1319024975.py:38: SettingWithCopyWarning: \n",
      "A value is trying to be set on a copy of a slice from a DataFrame.\n",
      "Try using .loc[row_indexer,col_indexer] = value instead\n",
      "\n",
      "See the caveats in the documentation: https://pandas.pydata.org/pandas-docs/stable/user_guide/indexing.html#returning-a-view-versus-a-copy\n",
      "  nw_players['Simple_Position'] = nw_players['Position'].apply(categorize_position)\n",
      "C:\\Users\\John\\AppData\\Local\\Temp\\ipykernel_25416\\1319024975.py:49: DeprecationWarning: DataFrameGroupBy.apply operated on the grouping columns. This behavior is deprecated, and in a future version of pandas the grouping columns will be excluded from the operation. Either pass `include_groups=False` to exclude the groupings or explicitly select the grouping columns after groupby to silence this warning.\n",
      "  player_profiles = nw_players.groupby('player_name', group_keys=False).apply(create_player_profile).fillna(0)\n"
     ]
    }
   ],
   "source": [
    "import pandas as pd\n",
    "import numpy as np\n",
    "from sklearn.metrics.pairwise import cosine_similarity\n",
    "\n",
    "\n",
    "df = pd.read_csv('player-data/cleaned_player.csv')\n",
    "\n",
    "# Filtering for Northwestern Wildcats team\n",
    "nw_players = df[df['team'] == 'Northwestern Wildcats']\n",
    "\n",
    "# Dynamic categorization function to classify positions into 'Back', 'Forward', 'Goalkeeper', and 'Midfield'\n",
    "def categorize_position(position):\n",
    "    \"\"\"\n",
    "    This function categorizes the player's position based on the string value in the 'Position' column.\n",
    "    \"\"\"\n",
    "    if 'GK' in position:  # Goalkeeper\n",
    "        return 'Goalkeeper'\n",
    "    elif 'CB' in position or 'LB' in position or 'RB' in position or 'WB' in position:  # Defense/Back\n",
    "        return 'Back'\n",
    "    elif 'DMF' in position or 'CMF' in position or 'AMF' in position:  # Midfield\n",
    "        if 'L' in position:\n",
    "            return 'Midfield'  # Left Midfield\n",
    "        elif 'R' in position:\n",
    "            return 'Midfield'  # Right Midfield\n",
    "        else:\n",
    "            return 'Midfield'  # Central Midfield\n",
    "    elif 'LW' in position or 'RW' in position or 'WF' in position:  # Wide Forward/Wing\n",
    "        if 'L' in position:\n",
    "            return 'Forward'  # Left Wing\n",
    "        elif 'R' in position:\n",
    "            return 'Forward'  # Right Wing\n",
    "    elif 'CF' in position:  # Center Forward\n",
    "        return 'Forward'\n",
    "    else:\n",
    "        return 'Other'\n",
    "\n",
    "# Applying the dynamic categorization to 'Simple_Position' column\n",
    "nw_players['Simple_Position'] = nw_players['Position'].apply(categorize_position)\n",
    "\n",
    "# Function to create a player profile based on performance statistics\n",
    "def create_player_profile(player_data):\n",
    "    \"\"\"\n",
    "    This function calculates the average statistics for each player.\n",
    "    The statistics considered are goals, assists, shots, shots on target, passes into box, and successful dribbles.\n",
    "    \"\"\"\n",
    "    return player_data[['goals', 'assists', 'shots', 'shots_on_target', 'passes_into_box', 'successful_dribbles']].mean()\n",
    "\n",
    "# Group the data by player and create player profiles (average of performance statistics)\n",
    "player_profiles = nw_players.groupby('player_name', group_keys=False).apply(create_player_profile).fillna(0)\n",
    "\n",
    "# Calculating the similarity matrix using cosine similarity\n",
    "similarity_matrix = cosine_similarity(player_profiles)\n",
    "\n",
    "\n",
    "# Function to get substitute recommendations for a given player\n",
    "def get_substitute_recommendations(player_name, top_n=3):\n",
    "    \"\"\"\n",
    "    This function generates substitute recommendations based on player similarity.\n",
    "    It considers players with similar profiles and matching positions, who have played less than 90 minutes.\n",
    "    \"\"\"\n",
    "    if player_name not in player_profiles.index:\n",
    "        return \"Player not found in dataset.\"\n",
    "    \n",
    "    \n",
    "    player_idx = player_profiles.index.get_loc(player_name)\n",
    "    player_position = nw_players[nw_players['player_name'] == player_name]['Simple_Position'].iloc[0]\n",
    "    \n",
    "    # Getting the similarities of the input player with all other players\n",
    "    player_similarities = similarity_matrix[player_idx]\n",
    "    \n",
    "    # Creating a Series of player similarities sorted in descending order, excluding the input player itself\n",
    "    similar_players = pd.Series(player_similarities, index=player_profiles.index)\n",
    "    similar_players = similar_players.sort_values(ascending=False)[1:]  # Exclude the player itself\n",
    "    \n",
    "    # Preparing the list of substitute recommendations\n",
    "    recommendations = []\n",
    "    for similar_player in similar_players.index:\n",
    "        similar_player_data = nw_players[nw_players['player_name'] == similar_player].iloc[0]\n",
    "        \n",
    "        # Checking if the similar player has the same position and has played less than 90 minutes\n",
    "        if similar_player_data['Simple_Position'] == player_position and similar_player_data['Minutes played'] < 90:\n",
    "            recommendations.append((\n",
    "                similar_player,  # Player's name\n",
    "                similar_player_data['Simple_Position'],  # Player's position\n",
    "                similar_player_data['Minutes played'],  # Player's minutes played\n",
    "                similar_players[similar_player]  # Cosine similarity\n",
    "            ))\n",
    "        \n",
    "        # Stop the loop once the required number of recommendations are met\n",
    "        if len(recommendations) == top_n:\n",
    "            break\n",
    "    \n",
    "    return recommendations\n",
    "\n",
    "#getting substitute recommendations for a specific player say\n",
    "player_name = \"T. Glassberg\" \n",
    "recommendations = get_substitute_recommendations(player_name)\n",
    "\n",
    "print(f\"Recommended substitutes for {player_name}:\")\n",
    "if isinstance(recommendations, list):  \n",
    "    for i, (name, pos, mins, similarity) in enumerate(recommendations, 1):\n",
    "        print(f\"{i}. {name} (Position: {pos}, Avg. Minutes: {mins:.2f}, Similarity: {similarity:.2f})\")\n",
    "else:\n",
    "    print(recommendations)  # If no recommendations found, print the message\n"
   ]
  },
  {
   "cell_type": "code",
   "execution_count": null,
   "id": "a48ba203-36ed-463e-b1d6-6f5f00482df1",
   "metadata": {},
   "outputs": [],
   "source": []
  }
 ],
 "metadata": {
  "kernelspec": {
   "display_name": "hackathon2024env",
   "language": "python",
   "name": "python3"
  },
  "language_info": {
   "codemirror_mode": {
    "name": "ipython",
    "version": 3
   },
   "file_extension": ".py",
   "mimetype": "text/x-python",
   "name": "python",
   "nbconvert_exporter": "python",
   "pygments_lexer": "ipython3",
   "version": "3.13.0"
  }
 },
 "nbformat": 4,
 "nbformat_minor": 5
}
